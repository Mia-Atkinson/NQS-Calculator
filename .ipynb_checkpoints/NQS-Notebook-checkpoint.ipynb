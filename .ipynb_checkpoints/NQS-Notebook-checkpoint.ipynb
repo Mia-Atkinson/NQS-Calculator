{
 "cells": [
  {
   "cell_type": "code",
   "execution_count": 168,
   "id": "7cd170fa",
   "metadata": {},
   "outputs": [
    {
     "name": "stdout",
     "output_type": "stream",
     "text": [
      "0        False\n",
      "1        False\n",
      "2        False\n",
      "3        False\n",
      "4        False\n",
      "         ...  \n",
      "20705    False\n",
      "20706    False\n",
      "20707    False\n",
      "20708    False\n",
      "20709    False\n",
      "Name: Meet ID, Length: 20710, dtype: bool\n"
     ]
    }
   ],
   "source": [
    "import pandas as pd\n",
    "import numpy as np\n",
    "\n",
    "# Setup\n",
    "full_df = pd.read_csv(\"prospect_rtn_data.csv\")\n",
    "df = full_df.drop(['Meet Date','Away Team(s)','Gymnast ID'], axis=1)\n",
    "df.loc[:,'Location'] = np.where(df['Home Team'] == df['Team'] , 'Home', 'Away')\n",
    "print(df['Meet ID'] == \"27533\")\n",
    "\n",
    "\n",
    "school_meets = df.drop(['Home Team', 'Event', 'Score', 'Name'], axis=1)\n",
    "school_meets = school_meets.drop_duplicates(subset=['Meet ID','Team'])\n",
    "# print(school_meets.loc[school_meets['Team'] == 'Michigan'])\n",
    "# print(school_meets)\n",
    "# print(school_meets.loc[(school_meets['Meet ID'] == \"27533\")])\n",
    "\n",
    "schools = df.drop(['Home Team','Event','Location','Meet ID','Name','Score'], axis=1)\n",
    "#print(schools.loc[(schools['Meet ID'] == \"27502\")])\n",
    "\n",
    "\n",
    "# Add Event AA\n",
    "athlete_name = \"Natalie Wojcik\"\n",
    "df_athlete = df.copy().loc[(df['Name'] == athlete_name)]\n",
    "# athlete_meets = df_athlete.drop_duplicates(subset=['Meet ID']).reset_index()\n",
    "\n",
    "# for index, row in school_meets.loc[school_meets['Team'] == 'Michigan'].iterrows():\n",
    "#     meet_id = row['Meet ID']\n",
    "#     location = \"Home\"\n",
    "#     if df_athlete[(df_athlete['Meet ID']==26692)].shape[0] == 4:\n",
    "#         score = df_athlete[(df_athlete['Meet ID']==meet_id)][\"Score\"].sum()\n",
    "#         aa_score = {\n",
    "#             'Meet ID': meet_id,\n",
    "#             'Name': athlete_name,\n",
    "#             'Team': 'Michigan',\n",
    "#             'Score': score,\n",
    "#             'Event': 'AA',\n",
    "#             'Location': location}\n",
    "#         df = df.append(aa_score, ignore_index=True) \n",
    "#         df = pd.concat([df, df1], ignore_index=True)\n",
    "# print(df.loc[(df['Name'] == \"Natalie Wojcik\")])\n",
    "# print(df.loc[(df['Meet ID'] == \"27502\")])"
   ]
  },
  {
   "cell_type": "code",
   "execution_count": 163,
   "id": "8cf4ca7d",
   "metadata": {},
   "outputs": [
    {
     "name": "stdout",
     "output_type": "stream",
     "text": [
      "Hello\n"
     ]
    }
   ],
   "source": [
    "print(\"Hello\")"
   ]
  },
  {
   "cell_type": "code",
   "execution_count": 104,
   "id": "130944ee",
   "metadata": {},
   "outputs": [
    {
     "name": "stdout",
     "output_type": "stream",
     "text": [
      "Hello\n"
     ]
    }
   ],
   "source": [
    "print(\"Hello\")"
   ]
  },
  {
   "cell_type": "code",
   "execution_count": null,
   "id": "0d16651a",
   "metadata": {},
   "outputs": [],
   "source": []
  },
  {
   "cell_type": "code",
   "execution_count": null,
   "id": "2b9e7b81",
   "metadata": {},
   "outputs": [],
   "source": []
  },
  {
   "cell_type": "code",
   "execution_count": null,
   "id": "f4109e4b",
   "metadata": {},
   "outputs": [],
   "source": []
  }
 ],
 "metadata": {
  "kernelspec": {
   "display_name": "Python 3 (ipykernel)",
   "language": "python",
   "name": "python3"
  },
  "language_info": {
   "codemirror_mode": {
    "name": "ipython",
    "version": 3
   },
   "file_extension": ".py",
   "mimetype": "text/x-python",
   "name": "python",
   "nbconvert_exporter": "python",
   "pygments_lexer": "ipython3",
   "version": "3.9.12"
  }
 },
 "nbformat": 4,
 "nbformat_minor": 5
}
